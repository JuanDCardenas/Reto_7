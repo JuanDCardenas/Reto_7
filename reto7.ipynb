{
 "cells": [
  {
   "cell_type": "code",
   "execution_count": 2,
   "metadata": {},
   "outputs": [
    {
     "name": "stdout",
     "output_type": "stream",
     "text": [
      "4\n",
      "2\n"
     ]
    }
   ],
   "source": [
    "i=int(input(\"Escribe un numero entero: \"))\n",
    "while (i>=2):\n",
    "    if i%2 == 0:\n",
    "        print (i)\n",
    "    i-=1"
   ]
  },
  {
   "cell_type": "code",
   "execution_count": 3,
   "metadata": {},
   "outputs": [
    {
     "name": "stdout",
     "output_type": "stream",
     "text": [
      "La población del pais b superara a la del pais a en el año 2047\n"
     ]
    }
   ],
   "source": [
    "i=1\n",
    "e=1\n",
    "pais_a: int= 25000000\n",
    "pais_b: int= 19800000\n",
    "while (pais_b<=pais_a):\n",
    "    pais_a+=pais_a*0.02\n",
    "    pais_b+=pais_b*0.03\n",
    "    i+=1\n",
    "año:int=i+2022\n",
    "print(f\"La población del pais b superara a la del pais a en el año {año}\")"
   ]
  },
  {
   "cell_type": "code",
   "execution_count": 4,
   "metadata": {},
   "outputs": [
    {
     "name": "stdout",
     "output_type": "stream",
     "text": [
      "120\n"
     ]
    }
   ],
   "source": [
    "i=int(input(\"Escribe un numero entero: \"))\n",
    "factorial:int=1\n",
    "while (i>=2):\n",
    "    factorial*=i\n",
    "    i-=1\n",
    "print(factorial)"
   ]
  },
  {
   "cell_type": "code",
   "execution_count": 5,
   "metadata": {},
   "outputs": [
    {
     "name": "stdout",
     "output_type": "stream",
     "text": [
      "El numero buscado es menor\n",
      "El numero buscado es menor\n",
      "El numero buscado es mayor\n",
      "El numero buscado es mayor\n",
      "El numero buscado es mayor\n",
      "El numero buscado es menor\n",
      "El numero buscado es menor\n",
      "El numero buscado es mayor\n",
      "El numero buscado es menor\n",
      "El numero es correcto\n"
     ]
    }
   ],
   "source": [
    "import random\n",
    "if __name__== \"__main__\":\n",
    "    numero:int=random.randint(1,100)\n",
    "    intento=int(input(\"Intenta adivinar un numero entre 1 y 100: \"))\n",
    "    while intento!=numero:\n",
    "    \n",
    "        if intento>numero:\n",
    "            print(\"El numero buscado es menor\")\n",
    "        else:\n",
    "            print(\"El numero buscado es mayor\")\n",
    "        intento=int(input(\"Intenta de nuevo: \"))\n",
    "    print(\"El numero es correcto\")"
   ]
  },
  {
   "cell_type": "code",
   "execution_count": 6,
   "metadata": {},
   "outputs": [
    {
     "name": "stdout",
     "output_type": "stream",
     "text": [
      "31\n",
      "1\n"
     ]
    }
   ],
   "source": [
    "import random\n",
    "numero:int= random.randint(2,50)\n",
    "guardar=numero\n",
    "while (guardar>0):\n",
    "    if numero%guardar == 0:\n",
    "        print(guardar)\n",
    "    guardar-=1"
   ]
  },
  {
   "cell_type": "code",
   "execution_count": 7,
   "metadata": {},
   "outputs": [
    {
     "name": "stdout",
     "output_type": "stream",
     "text": [
      "2\n",
      "3\n",
      "5\n",
      "7\n",
      "11\n",
      "13\n",
      "17\n",
      "19\n",
      "23\n",
      "29\n",
      "31\n",
      "37\n",
      "41\n",
      "43\n",
      "47\n",
      "53\n",
      "59\n",
      "61\n",
      "67\n",
      "71\n",
      "73\n",
      "79\n",
      "83\n",
      "89\n",
      "97\n"
     ]
    }
   ],
   "source": [
    "def numeros_primos (numero:int)->bool: \n",
    "    j=2\n",
    "    if numero==1 :\n",
    "        return False\n",
    "    if numero==2 :\n",
    "        return True\n",
    "    while (j<numero):\n",
    "        if numero%j==0:\n",
    "            return False\n",
    "        j+=1\n",
    "    return True    \n",
    "        \n",
    "if __name__ == \"__main__\":\n",
    "    numero:int=1\n",
    "    while (numero<=100):\n",
    "        primo=numeros_primos(numero)\n",
    "        if primo==True:\n",
    "            print(numero)\n",
    "        numero+=1\n"
   ]
  }
 ],
 "metadata": {
  "kernelspec": {
   "display_name": "Python 3",
   "language": "python",
   "name": "python3"
  },
  "language_info": {
   "codemirror_mode": {
    "name": "ipython",
    "version": 3
   },
   "file_extension": ".py",
   "mimetype": "text/x-python",
   "name": "python",
   "nbconvert_exporter": "python",
   "pygments_lexer": "ipython3",
   "version": "3.12.2"
  }
 },
 "nbformat": 4,
 "nbformat_minor": 2
}
